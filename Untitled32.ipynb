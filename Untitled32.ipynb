{
  "nbformat": 4,
  "nbformat_minor": 0,
  "metadata": {
    "colab": {
      "name": "Untitled32.ipynb",
      "provenance": [],
      "collapsed_sections": [],
      "authorship_tag": "ABX9TyMk9KlJrFj4F2PVoHXit14Q",
      "include_colab_link": true
    },
    "kernelspec": {
      "name": "python3",
      "display_name": "Python 3"
    },
    "language_info": {
      "name": "python"
    }
  },
  "cells": [
    {
      "cell_type": "markdown",
      "metadata": {
        "id": "view-in-github",
        "colab_type": "text"
      },
      "source": [
        "<a href=\"https://colab.research.google.com/github/Alexandra-Dunaf/data_mining/blob/main/Untitled32.ipynb\" target=\"_parent\"><img src=\"https://colab.research.google.com/assets/colab-badge.svg\" alt=\"Open In Colab\"/></a>"
      ]
    },
    {
      "cell_type": "code",
      "metadata": {
        "id": "QCQiI_hAdK3I"
      },
      "source": [
        "import numpy as np"
      ],
      "execution_count": 2,
      "outputs": []
    },
    {
      "cell_type": "code",
      "metadata": {
        "colab": {
          "base_uri": "https://localhost:8080/"
        },
        "id": "R6R3EYscd8PC",
        "outputId": "f8b9c521-9f57-4382-81c5-de4a83f1ec16"
      },
      "source": [
        "a = np.array([[1,2,0], [0,0,5], [3,-4,2], [1,6,5], [0,1,0]])\n",
        "np.linalg.svd(a)"
      ],
      "execution_count": 3,
      "outputs": [
        {
          "output_type": "execute_result",
          "data": {
            "text/plain": [
              "(array([[ 0.17056501,  0.15680918, -0.53077508, -0.79905375, -0.16158397],\n",
              "        [ 0.39287016, -0.52933945,  0.6134793 , -0.43375771,  0.03082495],\n",
              "        [-0.14366152, -0.82449256, -0.52379105,  0.14049848,  0.07400343],\n",
              "        [ 0.88843702,  0.06074346, -0.24655277,  0.37755832, -0.06042632],\n",
              "        [ 0.08125046,  0.10831843, -0.08231425, -0.10524851,  0.98173958]]),\n",
              " array([8.82486885, 6.14060608, 2.53271528]),\n",
              " array([[ 0.07116451,  0.71702467,  0.69340553],\n",
              "        [-0.36737824,  0.66514082, -0.65009301],\n",
              "        [-0.92734505, -0.20847855,  0.31075368]]))"
            ]
          },
          "metadata": {},
          "execution_count": 3
        }
      ]
    },
    {
      "cell_type": "code",
      "metadata": {
        "colab": {
          "base_uri": "https://localhost:8080/"
        },
        "id": "KHJlrtyafGNM",
        "outputId": "26508cff-083e-487b-cee3-4e92bbedc182"
      },
      "source": [
        "np.linalg.norm(a, ord='fro')"
      ],
      "execution_count": 4,
      "outputs": [
        {
          "output_type": "execute_result",
          "data": {
            "text/plain": [
              "11.045361017187261"
            ]
          },
          "metadata": {},
          "execution_count": 4
        }
      ]
    }
  ]
}