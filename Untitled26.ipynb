{
  "nbformat": 4,
  "nbformat_minor": 0,
  "metadata": {
    "colab": {
      "name": "Untitled26.ipynb",
      "provenance": [],
      "authorship_tag": "ABX9TyOXaa87vAdLnvtDSs+LNOs+",
      "include_colab_link": true
    },
    "kernelspec": {
      "name": "python3",
      "display_name": "Python 3"
    },
    "language_info": {
      "name": "python"
    }
  },
  "cells": [
    {
      "cell_type": "markdown",
      "metadata": {
        "id": "view-in-github",
        "colab_type": "text"
      },
      "source": [
        "<a href=\"https://colab.research.google.com/github/Alexandra-Dunaf/data_mining/blob/main/Untitled26.ipynb\" target=\"_parent\"><img src=\"https://colab.research.google.com/assets/colab-badge.svg\" alt=\"Open In Colab\"/></a>"
      ]
    },
    {
      "cell_type": "markdown",
      "metadata": {
        "id": "I5PCFF1IBpBX"
      },
      "source": [
        "1. Найти скалярное произведение векторов  x,y∈R :\n",
        "а)  x=(0,−3,6), y=(−4,7,9); \n",
        "б)  x=(7,−4,0,1), y=(−3,1,11,2).\n",
        "2. Найти нормы векторов  (4,2,4)  и  (12,3,4)  и угол между ними.\n",
        "\n",
        "3. Будет ли линейное пространство евклидовым, если за скалярное произведение принять:\n",
        "а) произведение длин векторов;\n",
        "б) утроенное обычное скалярное произведение векторов?\n",
        "\n",
        "4. Какие из нижеперечисленных векторов образуют ортонормированный базис в линейном пространстве  R3 :\n",
        "а)  (1,0,0),(0,0,1); \n",
        "б)  (1/2–√,−1/2–√,0),(1/2–√,1/2–√,0),(0,0,1); \n",
        "в)  (1/2,−1/2,0),(0,1/2,1/2),(0,0,1); \n",
        "г)  (1,0,0),(0,1,0),(0,0,1)?"
      ]
    },
    {
      "cell_type": "code",
      "metadata": {
        "id": "6bekuyTNBkii"
      },
      "source": [
        "import numpy as np"
      ],
      "execution_count": 1,
      "outputs": []
    },
    {
      "cell_type": "code",
      "metadata": {
        "colab": {
          "base_uri": "https://localhost:8080/"
        },
        "id": "VOTXSTfACGR4",
        "outputId": "cabccbe5-b2c7-4ae5-91f9-d4740f087342"
      },
      "source": [
        "a = np.array([0, -3, 6])\n",
        "b = np.array([-4, 7, 9])\n",
        "print(f'Скалярное произведение a и b:\\n{np.dot(a, b)}')\n"
      ],
      "execution_count": 2,
      "outputs": [
        {
          "output_type": "stream",
          "name": "stdout",
          "text": [
            "Скалярное произведение a и b:\n",
            "33\n"
          ]
        }
      ]
    },
    {
      "cell_type": "code",
      "metadata": {
        "colab": {
          "base_uri": "https://localhost:8080/"
        },
        "id": "-rIeKqLNCVWv",
        "outputId": "7e352e69-5880-4bac-8262-7579be553edb"
      },
      "source": [
        "x = np.array([7,-4,0,1])\n",
        "y = np.array([-3,1,11,2])\n",
        "print(f'Скалярное произведение a и b:\\n{np.dot(x, y)}')"
      ],
      "execution_count": 5,
      "outputs": [
        {
          "output_type": "stream",
          "name": "stdout",
          "text": [
            "Скалярное произведение a и b:\n",
            "-23\n"
          ]
        }
      ]
    },
    {
      "cell_type": "code",
      "metadata": {
        "id": "heiqxJRXCsff"
      },
      "source": [
        "from numpy.linalg import norm"
      ],
      "execution_count": 6,
      "outputs": []
    },
    {
      "cell_type": "code",
      "metadata": {
        "colab": {
          "base_uri": "https://localhost:8080/"
        },
        "id": "HADqTfSJCyy_",
        "outputId": "c10138fa-f86c-4161-83da-58ead684dfb9"
      },
      "source": [
        "c = np.array([4,2,4])\n",
        "d = np.array([12,3,4])\n",
        "c, d"
      ],
      "execution_count": 10,
      "outputs": [
        {
          "output_type": "execute_result",
          "data": {
            "text/plain": [
              "(array([4, 2, 4]), array([12,  3,  4]))"
            ]
          },
          "metadata": {},
          "execution_count": 10
        }
      ]
    },
    {
      "cell_type": "code",
      "metadata": {
        "colab": {
          "base_uri": "https://localhost:8080/"
        },
        "id": "wMA0SVnSC8_6",
        "outputId": "cddfe729-66cb-4d61-b856-187d12b8b8a5"
      },
      "source": [
        "print(f' Манхетовская норма вектора c:\\n{norm(c, ord=1)}')\n",
        "print(f' Манхетовская норма вектора d:\\n{norm(d, ord=1)}')"
      ],
      "execution_count": 11,
      "outputs": [
        {
          "output_type": "stream",
          "name": "stdout",
          "text": [
            " Манхетовская норма вектора c:\n",
            "10.0\n",
            " Манхетовская норма вектора d:\n",
            "19.0\n"
          ]
        }
      ]
    },
    {
      "cell_type": "code",
      "metadata": {
        "colab": {
          "base_uri": "https://localhost:8080/"
        },
        "id": "D-dQT_qcDdDe",
        "outputId": "fd340185-ab9b-457f-e38f-b57a625b1106"
      },
      "source": [
        "cos_phi = np.dot(c, d) / norm(c) / norm(d)\n",
        "cos_phi"
      ],
      "execution_count": 13,
      "outputs": [
        {
          "output_type": "execute_result",
          "data": {
            "text/plain": [
              "0.8974358974358974"
            ]
          },
          "metadata": {},
          "execution_count": 13
        }
      ]
    },
    {
      "cell_type": "markdown",
      "metadata": {
        "id": "Rw2LXn3iEGGd"
      },
      "source": [
        "а) (1,0,0),(0,0,1) не ортонормированый базис, тк вектора 2 в 3х мерном пространстве"
      ]
    },
    {
      "cell_type": "markdown",
      "metadata": {
        "id": "uCVMkH0_EZJt"
      },
      "source": [
        " г) (1,0,0),(0,1,0),(0,0,1) - образует ортонормированый базис"
      ]
    },
    {
      "cell_type": "markdown",
      "metadata": {
        "id": "ulkvK81qE3Xv"
      },
      "source": [
        "в) (1/2,−1/2,0),(0,1/2,1/2),(0,0,1) - образует ортонормированый базис"
      ]
    }
  ]
}