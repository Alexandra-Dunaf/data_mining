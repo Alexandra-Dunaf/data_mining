{
  "nbformat": 4,
  "nbformat_minor": 0,
  "metadata": {
    "colab": {
      "name": "Untitled28.ipynb",
      "provenance": [],
      "collapsed_sections": [],
      "authorship_tag": "ABX9TyPIr3qHslg15oZ1nmx0yIcS",
      "include_colab_link": true
    },
    "kernelspec": {
      "name": "python3",
      "display_name": "Python 3"
    },
    "language_info": {
      "name": "python"
    }
  },
  "cells": [
    {
      "cell_type": "markdown",
      "metadata": {
        "id": "view-in-github",
        "colab_type": "text"
      },
      "source": [
        "<a href=\"https://colab.research.google.com/github/Alexandra-Dunaf/data_mining/blob/main/Untitled28.ipynb\" target=\"_parent\"><img src=\"https://colab.research.google.com/assets/colab-badge.svg\" alt=\"Open In Colab\"/></a>"
      ]
    },
    {
      "cell_type": "markdown",
      "metadata": {
        "id": "cJT14oem9o4x"
      },
      "source": [
        "Вычислите, по возможности не используя программирование: (5E)-1 где Е – единичная матрица размера 5х5."
      ]
    },
    {
      "cell_type": "code",
      "metadata": {
        "id": "6BxMs7CE95wV"
      },
      "source": [
        "import numpy as np\n",
        "import scipy\n",
        "import scipy.linalg\n"
      ],
      "execution_count": 1,
      "outputs": []
    },
    {
      "cell_type": "code",
      "metadata": {
        "colab": {
          "base_uri": "https://localhost:8080/"
        },
        "id": "RSP5j5Lk9qgW",
        "outputId": "359c5f2e-9cf4-42ee-9b50-4300f81e31ee"
      },
      "source": [
        "a = np.array ([[1,0,0,0,0],[0,1,0,0,0],[0,0,1,0,0],[0,0,0,1,0],[0,0,0,0,1]])\n",
        "a"
      ],
      "execution_count": 2,
      "outputs": [
        {
          "output_type": "execute_result",
          "data": {
            "text/plain": [
              "array([[1, 0, 0, 0, 0],\n",
              "       [0, 1, 0, 0, 0],\n",
              "       [0, 0, 1, 0, 0],\n",
              "       [0, 0, 0, 1, 0],\n",
              "       [0, 0, 0, 0, 1]])"
            ]
          },
          "metadata": {},
          "execution_count": 2
        }
      ]
    },
    {
      "cell_type": "code",
      "metadata": {
        "colab": {
          "base_uri": "https://localhost:8080/"
        },
        "id": "0nViCcoL9l-5",
        "outputId": "4b0577e3-7891-48d4-da78-1255ca3d878a"
      },
      "source": [
        "p = np.linalg.inv(a)\n",
        "p"
      ],
      "execution_count": 3,
      "outputs": [
        {
          "output_type": "execute_result",
          "data": {
            "text/plain": [
              "array([[1., 0., 0., 0., 0.],\n",
              "       [0., 1., 0., 0., 0.],\n",
              "       [0., 0., 1., 0., 0.],\n",
              "       [0., 0., 0., 1., 0.],\n",
              "       [0., 0., 0., 0., 1.]])"
            ]
          },
          "metadata": {},
          "execution_count": 3
        }
      ]
    },
    {
      "cell_type": "markdown",
      "metadata": {
        "id": "YyjtpUbO-_Un"
      },
      "source": [
        "Вычислите определитель:\n",
        "   \n"
      ]
    },
    {
      "cell_type": "code",
      "metadata": {
        "colab": {
          "base_uri": "https://localhost:8080/"
        },
        "id": "H0Ft3Onm--tq",
        "outputId": "eb01fe55-91d0-4038-fde1-d61b094cc657"
      },
      "source": [
        "b = np.array([[1,2,3],[4,0,6],[7,8,9]])\n",
        "b"
      ],
      "execution_count": 4,
      "outputs": [
        {
          "output_type": "execute_result",
          "data": {
            "text/plain": [
              "array([[1, 2, 3],\n",
              "       [4, 0, 6],\n",
              "       [7, 8, 9]])"
            ]
          },
          "metadata": {},
          "execution_count": 4
        }
      ]
    },
    {
      "cell_type": "code",
      "metadata": {
        "colab": {
          "base_uri": "https://localhost:8080/"
        },
        "id": "0KoVHpu_AQ7E",
        "outputId": "259d401e-0c36-4865-cd61-390bd5f1a8b4"
      },
      "source": [
        "np.linalg.det(b)"
      ],
      "execution_count": 5,
      "outputs": [
        {
          "output_type": "execute_result",
          "data": {
            "text/plain": [
              "59.999999999999986"
            ]
          },
          "metadata": {},
          "execution_count": 5
        }
      ]
    },
    {
      "cell_type": "code",
      "metadata": {
        "colab": {
          "base_uri": "https://localhost:8080/"
        },
        "id": "kY3KI5P3AZB5",
        "outputId": "408f2734-3ee6-4e98-98c7-79dde3525094"
      },
      "source": [
        "c= b[0,0]*(b[1,1]*b[2,2]-b[1,2]*b[2,1])-b[0,1]*(b[1,0]*b[2,2]-b[1,2]*b[2,0])+b[0,2]*(b[1,0]*b[2,1]-b[1,1]*b[2,0])\n",
        "c"
      ],
      "execution_count": 6,
      "outputs": [
        {
          "output_type": "execute_result",
          "data": {
            "text/plain": [
              "60"
            ]
          },
          "metadata": {},
          "execution_count": 6
        }
      ]
    },
    {
      "cell_type": "markdown",
      "metadata": {
        "id": "QS8aiXuICCTi"
      },
      "source": [
        "1. Вычислите матрицу, обратную данной:"
      ]
    },
    {
      "cell_type": "code",
      "metadata": {
        "colab": {
          "base_uri": "https://localhost:8080/"
        },
        "id": "FKKQVb0fCDVR",
        "outputId": "2c011317-63d3-45eb-d6d0-7f03c5e68cd1"
      },
      "source": [
        "d = np.array([[1,2,3],[4,0,6],[7,8,9]])\n",
        "d"
      ],
      "execution_count": 7,
      "outputs": [
        {
          "output_type": "execute_result",
          "data": {
            "text/plain": [
              "array([[1, 2, 3],\n",
              "       [4, 0, 6],\n",
              "       [7, 8, 9]])"
            ]
          },
          "metadata": {},
          "execution_count": 7
        }
      ]
    },
    {
      "cell_type": "code",
      "metadata": {
        "colab": {
          "base_uri": "https://localhost:8080/"
        },
        "id": "27gAuzDuKiT0",
        "outputId": "bae934b0-85da-4dd2-e02f-08d0f6be5d04"
      },
      "source": [
        "a11=0*9-8*6\n",
        "a21=-(2*9-3*8)\n",
        "a31=2*6-0*3\n",
        "a12=-(4*9-7*6)\n",
        "a22=1*9-7*3\n",
        "a32=-(1*6-4*3)\n",
        "a13=4*8-0*7\n",
        "a23=-(1*8-2*7)\n",
        "a33=1*0-2*4\n",
        "e= np.array([[a11,a12,a13],[a21,a22,a23],[a31,a32,a33]])\n",
        "e"
      ],
      "execution_count": 8,
      "outputs": [
        {
          "output_type": "execute_result",
          "data": {
            "text/plain": [
              "array([[-48,   6,  32],\n",
              "       [  6, -12,   6],\n",
              "       [ 12,   6,  -8]])"
            ]
          },
          "metadata": {},
          "execution_count": 8
        }
      ]
    },
    {
      "cell_type": "code",
      "metadata": {
        "colab": {
          "base_uri": "https://localhost:8080/"
        },
        "id": "HYALyXweM3Hg",
        "outputId": "a9f5f124-dbe9-4cbd-e64b-0266a2ae0681"
      },
      "source": [
        "e.transpose()"
      ],
      "execution_count": 9,
      "outputs": [
        {
          "output_type": "execute_result",
          "data": {
            "text/plain": [
              "array([[-48,   6,  12],\n",
              "       [  6, -12,   6],\n",
              "       [ 32,   6,  -8]])"
            ]
          },
          "metadata": {},
          "execution_count": 9
        }
      ]
    },
    {
      "cell_type": "code",
      "metadata": {
        "colab": {
          "base_uri": "https://localhost:8080/"
        },
        "id": "SiPomE2-NJeW",
        "outputId": "5fc125c7-74c3-4152-ab24-a9c1fc3cb7a8"
      },
      "source": [
        "g = e / 60\n",
        "g"
      ],
      "execution_count": 10,
      "outputs": [
        {
          "output_type": "execute_result",
          "data": {
            "text/plain": [
              "array([[-0.8       ,  0.1       ,  0.53333333],\n",
              "       [ 0.1       , -0.2       ,  0.1       ],\n",
              "       [ 0.2       ,  0.1       , -0.13333333]])"
            ]
          },
          "metadata": {},
          "execution_count": 10
        }
      ]
    },
    {
      "cell_type": "markdown",
      "metadata": {
        "id": "O_VYQmXzPvAs"
      },
      "source": [
        "Вычислите скалярное произведение двух векторов:  \n",
        "(1, 5)  и  (2, 8)\n"
      ]
    },
    {
      "cell_type": "code",
      "metadata": {
        "colab": {
          "base_uri": "https://localhost:8080/"
        },
        "id": "Y9BuVm5GPwFC",
        "outputId": "9dee1c4c-6320-471f-9e3d-0bf684389317"
      },
      "source": [
        "k= np.array([1,5])\n",
        "m=np.array([2,8])\n",
        "np.dot(k,m)"
      ],
      "execution_count": 11,
      "outputs": [
        {
          "output_type": "execute_result",
          "data": {
            "text/plain": [
              "42"
            ]
          },
          "metadata": {},
          "execution_count": 11
        }
      ]
    },
    {
      "cell_type": "markdown",
      "metadata": {
        "id": "QGqZdTLzQRcI"
      },
      "source": [
        "(1, 5, 0), (2, 8, 7) и (7, 1.5, 3) Вычислите смешанное произведение трех векторов:"
      ]
    },
    {
      "cell_type": "code",
      "metadata": {
        "colab": {
          "base_uri": "https://localhost:8080/"
        },
        "id": "oa4f-KSeQSrP",
        "outputId": "d93d71fe-3268-4fdd-d08a-dae275954bc9"
      },
      "source": [
        "q=np.array([1,5,0])\n",
        "w=np.array([2,8,7])\n",
        "r=np.array([7,1.5,3])\n",
        "p=np.cross(q,w)\n",
        "print(np.inner(p,r))\n",
        "i=np.cross(w,r)\n",
        "print(np.inner(i,q))"
      ],
      "execution_count": 12,
      "outputs": [
        {
          "output_type": "stream",
          "name": "stdout",
          "text": [
            "228.5\n",
            "228.5\n"
          ]
        }
      ]
    },
    {
      "cell_type": "markdown",
      "metadata": {
        "id": "6GIQaxZEDE_g"
      },
      "source": [
        "\n",
        "1. Решите линейную систему:\n"
      ]
    },
    {
      "cell_type": "code",
      "metadata": {
        "colab": {
          "base_uri": "https://localhost:8080/"
        },
        "id": "r_J4TQ9DDF7D",
        "outputId": "a48a4909-2072-4157-abdb-305bf25f1216"
      },
      "source": [
        "f = np.array([[1,2,3], [4,0,6], [7,8,9]])\n",
        "g = np.array([12,2,1])\n",
        "np.linalg.solve(f,g)"
      ],
      "execution_count": 13,
      "outputs": [
        {
          "output_type": "execute_result",
          "data": {
            "text/plain": [
              "array([-9.2       ,  0.9       ,  6.46666667])"
            ]
          },
          "metadata": {},
          "execution_count": 13
        }
      ]
    },
    {
      "cell_type": "markdown",
      "metadata": {
        "id": "B9xQH1CZFijZ"
      },
      "source": [
        "2. Найдите псевдорешение:"
      ]
    },
    {
      "cell_type": "code",
      "metadata": {
        "colab": {
          "base_uri": "https://localhost:8080/"
        },
        "id": "DovgpcmFFjrY",
        "outputId": "c683619f-72ea-46eb-99c6-3cc50212d8cc"
      },
      "source": [
        "h = np.array([[1,2,-1], [3,-4,0], [8,-5,2], [2,0,-5], [11,4,-7]])\n",
        "j = np.array([1,7,12,7,15])\n",
        "np.linalg.lstsq(h,j)"
      ],
      "execution_count": 14,
      "outputs": [
        {
          "output_type": "stream",
          "name": "stderr",
          "text": [
            "/usr/local/lib/python3.7/dist-packages/ipykernel_launcher.py:3: FutureWarning: `rcond` parameter will change to the default of machine precision times ``max(M, N)`` where M and N are the input matrix dimensions.\n",
            "To use the future default and silence this warning we advise to pass `rcond=None`, to keep using the old, explicitly pass `rcond=-1`.\n",
            "  This is separate from the ipykernel package so we can avoid doing imports until\n"
          ]
        },
        {
          "output_type": "execute_result",
          "data": {
            "text/plain": [
              "(array([ 1.13919353, -0.90498444, -0.9009803 ]),\n",
              " array([0.71523211]),\n",
              " 3,\n",
              " array([15.2817306 ,  9.59852942,  3.65197794]))"
            ]
          },
          "metadata": {},
          "execution_count": 14
        }
      ]
    },
    {
      "cell_type": "markdown",
      "metadata": {
        "id": "SATVlGC7MIah"
      },
      "source": [
        "Сколько решений имеет линейная система:"
      ]
    },
    {
      "cell_type": "code",
      "metadata": {
        "colab": {
          "base_uri": "https://localhost:8080/"
        },
        "id": "oFqSlLD8MJtk",
        "outputId": "6d3b19b2-14cc-40e6-ba36-665e31558ba2"
      },
      "source": [
        "k = np.array([[1,2,3], [4,5,6], [7,8,9]])\n",
        "l = np.array([12,2,1])\n",
        "np.linalg.lstsq(k,l)"
      ],
      "execution_count": 15,
      "outputs": [
        {
          "output_type": "stream",
          "name": "stderr",
          "text": [
            "/usr/local/lib/python3.7/dist-packages/ipykernel_launcher.py:3: FutureWarning: `rcond` parameter will change to the default of machine precision times ``max(M, N)`` where M and N are the input matrix dimensions.\n",
            "To use the future default and silence this warning we advise to pass `rcond=None`, to keep using the old, explicitly pass `rcond=-1`.\n",
            "  This is separate from the ipykernel package so we can avoid doing imports until\n"
          ]
        },
        {
          "output_type": "execute_result",
          "data": {
            "text/plain": [
              "(array([-7.69444444, -0.61111111,  6.47222222]),\n",
              " array([], dtype=float64),\n",
              " 2,\n",
              " array([1.68481034e+01, 1.06836951e+00, 3.33475287e-16]))"
            ]
          },
          "metadata": {},
          "execution_count": 15
        }
      ]
    },
    {
      "cell_type": "markdown",
      "metadata": {
        "id": "cDlJMwrATCvc"
      },
      "source": [
        "4. Вычислите LU-разложение матрицы:"
      ]
    },
    {
      "cell_type": "code",
      "metadata": {
        "colab": {
          "base_uri": "https://localhost:8080/"
        },
        "id": "hnOAzTR2TkdL",
        "outputId": "3a3c1ec7-e024-4a6e-9953-d690288c564d"
      },
      "source": [
        "v = np.array ([[1,2,3],[2,16,21],[4,28,73]])\n",
        "P, L, U = scipy.linalg.lu(v)\n",
        "print(P)\n",
        "print(L)\n",
        "print(U)"
      ],
      "execution_count": 18,
      "outputs": [
        {
          "output_type": "stream",
          "name": "stdout",
          "text": [
            "[[0. 1. 0.]\n",
            " [0. 0. 1.]\n",
            " [1. 0. 0.]]\n",
            "[[ 1.    0.    0.  ]\n",
            " [ 0.25  1.    0.  ]\n",
            " [ 0.5  -0.4   1.  ]]\n",
            "[[  4.    28.    73.  ]\n",
            " [  0.    -5.   -15.25]\n",
            " [  0.     0.   -21.6 ]]\n"
          ]
        }
      ]
    },
    {
      "cell_type": "markdown",
      "metadata": {
        "id": "Wms9fVndVzjO"
      },
      "source": [
        "5. Найдите нормальное псевдорешение недоопределенной системы:"
      ]
    },
    {
      "cell_type": "code",
      "metadata": {
        "colab": {
          "base_uri": "https://localhost:8080/"
        },
        "id": "9qXVaWzvV0Iw",
        "outputId": "ab0b8a1e-0ca8-4ef6-ac86-9f3ea7b25e19"
      },
      "source": [
        "n = np.array([[1,2,-1], [8,-5,2]])\n",
        "m = np.array([1,12])\n",
        "np.linalg.lstsq(n,m)"
      ],
      "execution_count": 19,
      "outputs": [
        {
          "output_type": "stream",
          "name": "stderr",
          "text": [
            "/usr/local/lib/python3.7/dist-packages/ipykernel_launcher.py:3: FutureWarning: `rcond` parameter will change to the default of machine precision times ``max(M, N)`` where M and N are the input matrix dimensions.\n",
            "To use the future default and silence this warning we advise to pass `rcond=None`, to keep using the old, explicitly pass `rcond=-1`.\n",
            "  This is separate from the ipykernel package so we can avoid doing imports until\n"
          ]
        },
        {
          "output_type": "execute_result",
          "data": {
            "text/plain": [
              "(array([ 1.38191882, -0.18081181,  0.0202952 ]),\n",
              " array([], dtype=float64),\n",
              " 2,\n",
              " array([9.65316119, 2.41173777]))"
            ]
          },
          "metadata": {},
          "execution_count": 19
        }
      ]
    }
  ]
}