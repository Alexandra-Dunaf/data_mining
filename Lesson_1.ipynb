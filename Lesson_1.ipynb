{
  "nbformat": 4,
  "nbformat_minor": 0,
  "metadata": {
    "colab": {
      "name": "Lesson_1.ipynb",
      "provenance": [],
      "collapsed_sections": [],
      "include_colab_link": true
    },
    "kernelspec": {
      "display_name": "Python 3",
      "language": "python",
      "name": "python3"
    },
    "language_info": {
      "codemirror_mode": {
        "name": "ipython",
        "version": 3
      },
      "file_extension": ".py",
      "mimetype": "text/x-python",
      "name": "python",
      "nbconvert_exporter": "python",
      "pygments_lexer": "ipython3",
      "version": "3.7.3"
    },
    "toc": {
      "base_numbering": 1,
      "nav_menu": {},
      "number_sections": false,
      "sideBar": true,
      "skip_h1_title": true,
      "title_cell": "План занятия",
      "title_sidebar": "План",
      "toc_cell": true,
      "toc_position": {
        "height": "calc(100% - 180px)",
        "left": "10px",
        "top": "150px",
        "width": "165px"
      },
      "toc_section_display": true,
      "toc_window_display": true
    },
    "widgets": {
      "application/vnd.jupyter.widget-state+json": {
        "209f6beee8e9493a8bd5e92737ba45e7": {
          "model_module": "@jupyter-widgets/controls",
          "model_name": "VBoxModel",
          "model_module_version": "1.5.0",
          "state": {
            "_view_name": "VBoxView",
            "_dom_classes": [
              "widget-interact"
            ],
            "_model_name": "VBoxModel",
            "_view_module": "@jupyter-widgets/controls",
            "_model_module_version": "1.5.0",
            "_view_count": null,
            "_view_module_version": "1.5.0",
            "box_style": "",
            "layout": "IPY_MODEL_765ed2ed86124679bbc97dd5393c2ec6",
            "_model_module": "@jupyter-widgets/controls",
            "children": [
              "IPY_MODEL_9303cc7f7675446487ae3659bfd22ab9",
              "IPY_MODEL_8ce80b253e224e61b89ddd9c333f0fcc",
              "IPY_MODEL_8fc81687038f4c1abb4ee86380e3edbe"
            ]
          }
        },
        "765ed2ed86124679bbc97dd5393c2ec6": {
          "model_module": "@jupyter-widgets/base",
          "model_name": "LayoutModel",
          "model_module_version": "1.2.0",
          "state": {
            "_view_name": "LayoutView",
            "grid_template_rows": null,
            "right": null,
            "justify_content": null,
            "_view_module": "@jupyter-widgets/base",
            "overflow": null,
            "_model_module_version": "1.2.0",
            "_view_count": null,
            "flex_flow": null,
            "width": null,
            "min_width": null,
            "border": null,
            "align_items": null,
            "bottom": null,
            "_model_module": "@jupyter-widgets/base",
            "top": null,
            "grid_column": null,
            "overflow_y": null,
            "overflow_x": null,
            "grid_auto_flow": null,
            "grid_area": null,
            "grid_template_columns": null,
            "flex": null,
            "_model_name": "LayoutModel",
            "justify_items": null,
            "grid_row": null,
            "max_height": null,
            "align_content": null,
            "visibility": null,
            "align_self": null,
            "height": null,
            "min_height": null,
            "padding": null,
            "grid_auto_rows": null,
            "grid_gap": null,
            "max_width": null,
            "order": null,
            "_view_module_version": "1.2.0",
            "grid_template_areas": null,
            "object_position": null,
            "object_fit": null,
            "grid_auto_columns": null,
            "margin": null,
            "display": null,
            "left": null
          }
        },
        "9303cc7f7675446487ae3659bfd22ab9": {
          "model_module": "@jupyter-widgets/controls",
          "model_name": "FloatSliderModel",
          "model_module_version": "1.5.0",
          "state": {
            "_view_name": "FloatSliderView",
            "style": "IPY_MODEL_dbf496c84ab844a3a70230721a393018",
            "_dom_classes": [],
            "description": "m",
            "step": 0.1,
            "_model_name": "FloatSliderModel",
            "orientation": "horizontal",
            "max": 2,
            "_view_module": "@jupyter-widgets/controls",
            "_model_module_version": "1.5.0",
            "value": 0,
            "_view_count": null,
            "disabled": false,
            "_view_module_version": "1.5.0",
            "min": -2,
            "continuous_update": true,
            "readout_format": ".2f",
            "description_tooltip": null,
            "readout": true,
            "_model_module": "@jupyter-widgets/controls",
            "layout": "IPY_MODEL_901631f0396d422087f056d950f75469"
          }
        },
        "8ce80b253e224e61b89ddd9c333f0fcc": {
          "model_module": "@jupyter-widgets/controls",
          "model_name": "IntSliderModel",
          "model_module_version": "1.5.0",
          "state": {
            "_view_name": "IntSliderView",
            "style": "IPY_MODEL_8cefa6cf5f8b44a788237a6b39ec276c",
            "_dom_classes": [],
            "description": "b",
            "step": 1,
            "_model_name": "IntSliderModel",
            "orientation": "horizontal",
            "max": 10,
            "_view_module": "@jupyter-widgets/controls",
            "_model_module_version": "1.5.0",
            "value": 0,
            "_view_count": null,
            "disabled": false,
            "_view_module_version": "1.5.0",
            "min": -10,
            "continuous_update": true,
            "readout_format": "d",
            "description_tooltip": null,
            "readout": true,
            "_model_module": "@jupyter-widgets/controls",
            "layout": "IPY_MODEL_8f1a1cebf6964c8699cf5dc6244b269a"
          }
        },
        "8fc81687038f4c1abb4ee86380e3edbe": {
          "model_module": "@jupyter-widgets/output",
          "model_name": "OutputModel",
          "model_module_version": "1.0.0",
          "state": {
            "_view_name": "OutputView",
            "msg_id": "",
            "_dom_classes": [],
            "_model_name": "OutputModel",
            "outputs": [
              {
                "output_type": "display_data",
                "data": {
                  "image/png": "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\n",
                  "text/plain": "<Figure size 432x288 with 1 Axes>"
                },
                "metadata": {
                  "needs_background": "light"
                }
              }
            ],
            "_view_module": "@jupyter-widgets/output",
            "_model_module_version": "1.0.0",
            "_view_count": null,
            "_view_module_version": "1.0.0",
            "layout": "IPY_MODEL_5c09007970f54c04a167b732d734f926",
            "_model_module": "@jupyter-widgets/output"
          }
        },
        "dbf496c84ab844a3a70230721a393018": {
          "model_module": "@jupyter-widgets/controls",
          "model_name": "SliderStyleModel",
          "model_module_version": "1.5.0",
          "state": {
            "_view_name": "StyleView",
            "handle_color": null,
            "_model_name": "SliderStyleModel",
            "description_width": "",
            "_view_module": "@jupyter-widgets/base",
            "_model_module_version": "1.5.0",
            "_view_count": null,
            "_view_module_version": "1.2.0",
            "_model_module": "@jupyter-widgets/controls"
          }
        },
        "901631f0396d422087f056d950f75469": {
          "model_module": "@jupyter-widgets/base",
          "model_name": "LayoutModel",
          "model_module_version": "1.2.0",
          "state": {
            "_view_name": "LayoutView",
            "grid_template_rows": null,
            "right": null,
            "justify_content": null,
            "_view_module": "@jupyter-widgets/base",
            "overflow": null,
            "_model_module_version": "1.2.0",
            "_view_count": null,
            "flex_flow": null,
            "width": null,
            "min_width": null,
            "border": null,
            "align_items": null,
            "bottom": null,
            "_model_module": "@jupyter-widgets/base",
            "top": null,
            "grid_column": null,
            "overflow_y": null,
            "overflow_x": null,
            "grid_auto_flow": null,
            "grid_area": null,
            "grid_template_columns": null,
            "flex": null,
            "_model_name": "LayoutModel",
            "justify_items": null,
            "grid_row": null,
            "max_height": null,
            "align_content": null,
            "visibility": null,
            "align_self": null,
            "height": null,
            "min_height": null,
            "padding": null,
            "grid_auto_rows": null,
            "grid_gap": null,
            "max_width": null,
            "order": null,
            "_view_module_version": "1.2.0",
            "grid_template_areas": null,
            "object_position": null,
            "object_fit": null,
            "grid_auto_columns": null,
            "margin": null,
            "display": null,
            "left": null
          }
        },
        "8cefa6cf5f8b44a788237a6b39ec276c": {
          "model_module": "@jupyter-widgets/controls",
          "model_name": "SliderStyleModel",
          "model_module_version": "1.5.0",
          "state": {
            "_view_name": "StyleView",
            "handle_color": null,
            "_model_name": "SliderStyleModel",
            "description_width": "",
            "_view_module": "@jupyter-widgets/base",
            "_model_module_version": "1.5.0",
            "_view_count": null,
            "_view_module_version": "1.2.0",
            "_model_module": "@jupyter-widgets/controls"
          }
        },
        "8f1a1cebf6964c8699cf5dc6244b269a": {
          "model_module": "@jupyter-widgets/base",
          "model_name": "LayoutModel",
          "model_module_version": "1.2.0",
          "state": {
            "_view_name": "LayoutView",
            "grid_template_rows": null,
            "right": null,
            "justify_content": null,
            "_view_module": "@jupyter-widgets/base",
            "overflow": null,
            "_model_module_version": "1.2.0",
            "_view_count": null,
            "flex_flow": null,
            "width": null,
            "min_width": null,
            "border": null,
            "align_items": null,
            "bottom": null,
            "_model_module": "@jupyter-widgets/base",
            "top": null,
            "grid_column": null,
            "overflow_y": null,
            "overflow_x": null,
            "grid_auto_flow": null,
            "grid_area": null,
            "grid_template_columns": null,
            "flex": null,
            "_model_name": "LayoutModel",
            "justify_items": null,
            "grid_row": null,
            "max_height": null,
            "align_content": null,
            "visibility": null,
            "align_self": null,
            "height": null,
            "min_height": null,
            "padding": null,
            "grid_auto_rows": null,
            "grid_gap": null,
            "max_width": null,
            "order": null,
            "_view_module_version": "1.2.0",
            "grid_template_areas": null,
            "object_position": null,
            "object_fit": null,
            "grid_auto_columns": null,
            "margin": null,
            "display": null,
            "left": null
          }
        },
        "5c09007970f54c04a167b732d734f926": {
          "model_module": "@jupyter-widgets/base",
          "model_name": "LayoutModel",
          "model_module_version": "1.2.0",
          "state": {
            "_view_name": "LayoutView",
            "grid_template_rows": null,
            "right": null,
            "justify_content": null,
            "_view_module": "@jupyter-widgets/base",
            "overflow": null,
            "_model_module_version": "1.2.0",
            "_view_count": null,
            "flex_flow": null,
            "width": null,
            "min_width": null,
            "border": null,
            "align_items": null,
            "bottom": null,
            "_model_module": "@jupyter-widgets/base",
            "top": null,
            "grid_column": null,
            "overflow_y": null,
            "overflow_x": null,
            "grid_auto_flow": null,
            "grid_area": null,
            "grid_template_columns": null,
            "flex": null,
            "_model_name": "LayoutModel",
            "justify_items": null,
            "grid_row": null,
            "max_height": null,
            "align_content": null,
            "visibility": null,
            "align_self": null,
            "height": "350px",
            "min_height": null,
            "padding": null,
            "grid_auto_rows": null,
            "grid_gap": null,
            "max_width": null,
            "order": null,
            "_view_module_version": "1.2.0",
            "grid_template_areas": null,
            "object_position": null,
            "object_fit": null,
            "grid_auto_columns": null,
            "margin": null,
            "display": null,
            "left": null
          }
        }
      }
    }
  },
  "cells": [
    {
      "cell_type": "markdown",
      "metadata": {
        "id": "view-in-github",
        "colab_type": "text"
      },
      "source": [
        "<a href=\"https://colab.research.google.com/github/Alexandra-Dunaf/data_mining/blob/main/Lesson_1.ipynb\" target=\"_parent\"><img src=\"https://colab.research.google.com/assets/colab-badge.svg\" alt=\"Open In Colab\"/></a>"
      ]
    },
    {
      "cell_type": "markdown",
      "metadata": {
        "id": "pVUMJdSmKJvV"
      },
      "source": [
        "# Урок 1. Алгоритм линейной регрессии. Градиентный спуск"
      ]
    },
    {
      "cell_type": "markdown",
      "metadata": {
        "toc": true,
        "id": "8UPYbwbMKJvk"
      },
      "source": [
        "<h1>План занятия<span class=\"tocSkip\"></span></h1>\n",
        "<div class=\"toc\"><ul class=\"toc-item\"><li><span><a href=\"#Линейная-регрессия\" data-toc-modified-id=\"Линейная-регрессия-1\">Линейная регрессия</a></span><ul class=\"toc-item\"><li><span><a href=\"#Уравнение-прямой\" data-toc-modified-id=\"Уравнение-прямой-1.1\">Уравнение прямой</a></span></li><li><span><a href=\"#Уравнение-линейной-регрессии\" data-toc-modified-id=\"Уравнение-линейной-регрессии-1.2\">Уравнение линейной регрессии</a></span></li></ul></li><li><span><a href=\"#Метод-наименьших-квадратов\" data-toc-modified-id=\"Метод-наименьших-квадратов-2\">Метод наименьших квадратов</a></span></li><li><span><a href=\"#Градиентный-спуск-(gradient-descent)\" data-toc-modified-id=\"Градиентный-спуск-(gradient-descent)-3\">Градиентный спуск (gradient descent)</a></span></li><li><span><a href=\"#Домашние-задания\" data-toc-modified-id=\"Домашние-задания-4\">Домашние задания</a></span></li></ul></div>"
      ]
    },
    {
      "cell_type": "code",
      "metadata": {
        "id": "ak8b3KV45kVW"
      },
      "source": [
        "import numpy as np\n",
        "import matplotlib.pyplot as plt\n",
        "plt.rcParams.update({'font.size': 14,\n",
        "                     'xtick.labelsize': 14})"
      ],
      "execution_count": 3,
      "outputs": []
    },
    {
      "cell_type": "markdown",
      "metadata": {
        "id": "GvcU5-nXKJvx"
      },
      "source": [
        "### Линейная регрессия"
      ]
    },
    {
      "cell_type": "markdown",
      "metadata": {
        "id": "cJ5Of_N1KJvz"
      },
      "source": [
        "<img src='img/linear_regression.png' width=400 align='left'>"
      ]
    },
    {
      "cell_type": "markdown",
      "metadata": {
        "id": "fvbHZRzsKJv1"
      },
      "source": [
        "#### Уравнение прямой"
      ]
    },
    {
      "cell_type": "code",
      "metadata": {
        "colab": {
          "base_uri": "https://localhost:8080/",
          "height": 431,
          "referenced_widgets": [
            "209f6beee8e9493a8bd5e92737ba45e7",
            "765ed2ed86124679bbc97dd5393c2ec6",
            "9303cc7f7675446487ae3659bfd22ab9",
            "8ce80b253e224e61b89ddd9c333f0fcc",
            "8fc81687038f4c1abb4ee86380e3edbe",
            "dbf496c84ab844a3a70230721a393018",
            "901631f0396d422087f056d950f75469",
            "8cefa6cf5f8b44a788237a6b39ec276c",
            "8f1a1cebf6964c8699cf5dc6244b269a",
            "5c09007970f54c04a167b732d734f926"
          ]
        },
        "id": "GBC5w_ZsKJv7",
        "outputId": "1150311e-193b-42cc-867a-067e94c9e2d9"
      },
      "source": [
        "from ipywidgets import interactive\n",
        "\n",
        "def f(m, b):\n",
        "    plt.figure(2)\n",
        "    x = np.linspace(0, 10, num=1000)\n",
        "    plt.plot(x, m * x + b)\n",
        "    plt.ylim(0, 10)\n",
        "    plt.show()\n",
        "\n",
        "interactive_plot = interactive(f, m=(-2.0, 2.0), b=(-10, 10, 1))\n",
        "output = interactive_plot.children[-1]\n",
        "output.layout.height = '350px'\n",
        "interactive_plot"
      ],
      "execution_count": 4,
      "outputs": [
        {
          "output_type": "display_data",
          "data": {
            "application/vnd.jupyter.widget-view+json": {
              "model_id": "209f6beee8e9493a8bd5e92737ba45e7",
              "version_minor": 0,
              "version_major": 2
            },
            "text/plain": [
              "interactive(children=(FloatSlider(value=0.0, description='m', max=2.0, min=-2.0), IntSlider(value=0, descripti…"
            ]
          },
          "metadata": {}
        }
      ]
    },
    {
      "cell_type": "markdown",
      "metadata": {
        "id": "euzZVMIfKJwD"
      },
      "source": [
        "#### Уравнение линейной регрессии"
      ]
    },
    {
      "cell_type": "markdown",
      "metadata": {
        "id": "PQ4hIOUhKJwG"
      },
      "source": [
        "$${y}_i = w_0 + w_1\\cdot x_{i}+\\epsilon_i, \\text{ for } i \\in [1,n]$$\n",
        "$$\\hat{y}_i = \\hat w_0\\cdot 1 + \\hat w_1\\cdot x_{i}, \\text{ for } i \\in [1,n]$$"
      ]
    },
    {
      "cell_type": "markdown",
      "metadata": {
        "id": "mtfrf2EnKJwI"
      },
      "source": [
        "$$\\vec{y}=X\\vec{w},$$\n",
        "\n",
        "\n",
        "$$\\text{где }\\vec{y} = \\begin{pmatrix}\n",
        "\\hat y_{1}\\\\ \n",
        "\\vdots\\\\ \n",
        "\\hat y_{n}\n",
        "\\end{pmatrix}, \n",
        "X = \\begin{pmatrix}\n",
        "1 & x_{1}\\\\ \n",
        "\\vdots & \\vdots\\\\ \n",
        "1 & x_{n}\n",
        "\\end{pmatrix},\n",
        "\\vec{w} = \\begin{pmatrix}\n",
        "\\hat w_{0}\\\\ \n",
        "\\hat w_{1}\n",
        "\\end{pmatrix}\n",
        "$$"
      ]
    },
    {
      "cell_type": "code",
      "metadata": {
        "colab": {
          "base_uri": "https://localhost:8080/"
        },
        "id": "i77tZbAd5plB",
        "outputId": "1046e515-2c37-4903-fdd5-e4fff5a72293"
      },
      "source": [
        "X = np.array([[1, 1, 1, 1, 1, 1, 1, 1, 1, 1],   # для умножения на intercept\n",
        "              [1, 1, 2, 1, 3, 0, 5, 10, 1, 2]]).T # стаж репетитора\n",
        "X.shape"
      ],
      "execution_count": 5,
      "outputs": [
        {
          "output_type": "execute_result",
          "data": {
            "text/plain": [
              "(10, 2)"
            ]
          },
          "metadata": {},
          "execution_count": 5
        }
      ]
    },
    {
      "cell_type": "code",
      "metadata": {
        "colab": {
          "base_uri": "https://localhost:8080/"
        },
        "id": "aDnU4_O-KJwN",
        "outputId": "f3a0574e-b3b7-4bfe-acf1-e33d5a56d77e"
      },
      "source": [
        "X"
      ],
      "execution_count": 6,
      "outputs": [
        {
          "output_type": "execute_result",
          "data": {
            "text/plain": [
              "array([[ 1,  1],\n",
              "       [ 1,  1],\n",
              "       [ 1,  2],\n",
              "       [ 1,  1],\n",
              "       [ 1,  3],\n",
              "       [ 1,  0],\n",
              "       [ 1,  5],\n",
              "       [ 1, 10],\n",
              "       [ 1,  1],\n",
              "       [ 1,  2]])"
            ]
          },
          "metadata": {},
          "execution_count": 6
        }
      ]
    },
    {
      "cell_type": "code",
      "metadata": {
        "id": "VsNrKi1Q6Wmh"
      },
      "source": [
        "# средний балл ЕГЭ (целевая переменная)\n",
        "y = [45, 55, 50, 59, 65, 35, 75, 80, 50, 60]"
      ],
      "execution_count": 7,
      "outputs": []
    },
    {
      "cell_type": "code",
      "metadata": {
        "colab": {
          "base_uri": "https://localhost:8080/",
          "height": 287
        },
        "id": "qrXJ8gQBHMmy",
        "outputId": "565d6a9d-8347-4125-c156-a5626cdbde01"
      },
      "source": [
        "plt.scatter(X[:,1], y)\n",
        "plt.xlabel('стаж')\n",
        "plt.ylabel('ср.балл ЕГЭ');"
      ],
      "execution_count": 8,
      "outputs": [
        {
          "output_type": "display_data",
          "data": {
            "image/png": "[encoded data removed]",
            "text/plain": [
              "<Figure size 432x288 with 1 Axes>"
            ]
          },
          "metadata": {
            "needs_background": "light"
          }
        }
      ]
    },
    {
      "cell_type": "code",
      "metadata": {
        "colab": {
          "base_uri": "https://localhost:8080/",
          "height": 287
        },
        "id": "D8HEAKaAKJwU",
        "outputId": "b6dd6198-f2e3-42d9-cf8e-015f784536a0"
      },
      "source": [
        "# y = m * x + b\n",
        "m = 4\n",
        "b = 45\n",
        "plt.scatter(X[:,1], y);\n",
        "plt.plot(X[:,1],  m * X[:,1] + b, color='red')\n",
        "plt.xlabel('стаж')\n",
        "plt.ylabel('ср.балл ЕГЭ');"
      ],
      "execution_count": 9,
      "outputs": [
        {
          "output_type": "display_data",
          "data": {
            "image/png": "[encoded data removed]",
            "text/plain": [
              "<Figure size 432x288 with 1 Axes>"
            ]
          },
          "metadata": {
            "needs_background": "light"
          }
        }
      ]
    },
    {
      "cell_type": "code",
      "metadata": {
        "id": "NntLxvtU7CbH"
      },
      "source": [
        "y_pred1 = 45 + 4 * X[:,1] \n",
        "y_pred2 = 40 + 7 * X[:,1]"
      ],
      "execution_count": 10,
      "outputs": []
    },
    {
      "cell_type": "code",
      "metadata": {
        "colab": {
          "base_uri": "https://localhost:8080/"
        },
        "id": "XsDNASCq9VBe",
        "outputId": "bb794302-6cfb-4633-aeb3-b662a67e0382"
      },
      "source": [
        "y_pred1"
      ],
      "execution_count": 11,
      "outputs": [
        {
          "output_type": "execute_result",
          "data": {
            "text/plain": [
              "array([49, 49, 53, 49, 57, 45, 65, 85, 49, 53])"
            ]
          },
          "metadata": {},
          "execution_count": 11
        }
      ]
    },
    {
      "cell_type": "code",
      "metadata": {
        "colab": {
          "base_uri": "https://localhost:8080/"
        },
        "id": "R8zyO-Qfs51Z",
        "outputId": "64c6350b-9c32-4307-e59c-25d3d7604523"
      },
      "source": [
        "y_pred2"
      ],
      "execution_count": 12,
      "outputs": [
        {
          "output_type": "execute_result",
          "data": {
            "text/plain": [
              "array([ 47,  47,  54,  47,  61,  40,  75, 110,  47,  54])"
            ]
          },
          "metadata": {},
          "execution_count": 12
        }
      ]
    },
    {
      "cell_type": "code",
      "metadata": {
        "colab": {
          "base_uri": "https://localhost:8080/",
          "height": 287
        },
        "id": "kbQbHKlas_3u",
        "outputId": "ac96f99e-348f-4120-ebea-736fae3a8e3c"
      },
      "source": [
        "plt.scatter(X[:,1], y)\n",
        "plt.plot(X[:,1], y_pred1, label='pred 1')\n",
        "plt.plot(X[:,1], y_pred2, label='pred 2')\n",
        "plt.xlabel('стаж')\n",
        "plt.ylabel('ср.балл ЕГЭ')\n",
        "plt.legend();"
      ],
      "execution_count": 13,
      "outputs": [
        {
          "output_type": "display_data",
          "data": {
            "image/png": "[encoded data removed]",
            "text/plain": [
              "<Figure size 432x288 with 1 Axes>"
            ]
          },
          "metadata": {
            "needs_background": "light"
          }
        }
      ]
    },
    {
      "cell_type": "code",
      "metadata": {
        "colab": {
          "base_uri": "https://localhost:8080/"
        },
        "id": "zbsqjAxH9WqI",
        "outputId": "2717cb88-a88d-476a-899d-0518f1719816"
      },
      "source": [
        "err1 = np.mean(y - y_pred1)\n",
        "err2 = np.mean(y - y_pred2)\n",
        "err1, err2"
      ],
      "execution_count": 14,
      "outputs": [
        {
          "output_type": "execute_result",
          "data": {
            "text/plain": [
              "(2.0, -0.8)"
            ]
          },
          "metadata": {},
          "execution_count": 14
        }
      ]
    },
    {
      "cell_type": "code",
      "metadata": {
        "colab": {
          "base_uri": "https://localhost:8080/"
        },
        "id": "vUqCthPf9eYI",
        "outputId": "360e375f-cc30-43dd-950b-fc44f6e711a1"
      },
      "source": [
        "# mae - mean absolute error\n",
        "mae_1 = np.mean(np.abs(y - y_pred1))\n",
        "mae_2 = np.mean(np.abs(y - y_pred2))\n",
        "mae_1, mae_2"
      ],
      "execution_count": 15,
      "outputs": [
        {
          "output_type": "execute_result",
          "data": {
            "text/plain": [
              "(6.4, 7.4)"
            ]
          },
          "metadata": {},
          "execution_count": 15
        }
      ]
    },
    {
      "cell_type": "code",
      "metadata": {
        "colab": {
          "base_uri": "https://localhost:8080/"
        },
        "id": "XTn2bZIg_EBS",
        "outputId": "5072a8b1-70d4-4c0a-ffbf-c8e52df44eba"
      },
      "source": [
        "# mse - mean squared error\n",
        "mse_1 = np.mean((y - y_pred1)**2)\n",
        "mse_2 = np.mean((y - y_pred2)**2)\n",
        "mse_1, mse_2"
      ],
      "execution_count": 16,
      "outputs": [
        {
          "output_type": "execute_result",
          "data": {
            "text/plain": [
              "(50.0, 121.4)"
            ]
          },
          "metadata": {},
          "execution_count": 16
        }
      ]
    },
    {
      "cell_type": "markdown",
      "metadata": {
        "id": "R4zHyZ2Da5HV"
      },
      "source": [
        "### Метод наименьших квадратов"
      ]
    },
    {
      "cell_type": "markdown",
      "metadata": {
        "id": "UyORhezyKJwo"
      },
      "source": [
        "Нормальное уравнение линейной регрессии\n",
        "$$\\vec{w} = (X^{T}X)^{-1}X^{T}\\vec{y}$$"
      ]
    },
    {
      "cell_type": "code",
      "metadata": {
        "colab": {
          "base_uri": "https://localhost:8080/"
        },
        "id": "aeIveORsKJwp",
        "outputId": "df690b0c-65b6-4feb-f242-70dc86ab6f5f"
      },
      "source": [
        "X.T @ X"
      ],
      "execution_count": 17,
      "outputs": [
        {
          "output_type": "execute_result",
          "data": {
            "text/plain": [
              "array([[ 10,  26],\n",
              "       [ 26, 146]])"
            ]
          },
          "metadata": {},
          "execution_count": 17
        }
      ]
    },
    {
      "cell_type": "code",
      "metadata": {
        "colab": {
          "base_uri": "https://localhost:8080/"
        },
        "id": "mnyZzkaDBegD",
        "outputId": "0ce110a7-3e43-4b26-cf30-056669cfbdf8"
      },
      "source": [
        "w = np.linalg.inv(X.T @ X) @ X.T @ y\n",
        "w"
      ],
      "execution_count": 18,
      "outputs": [
        {
          "output_type": "execute_result",
          "data": {
            "text/plain": [
              "array([47.23214286,  3.91071429])"
            ]
          },
          "metadata": {},
          "execution_count": 18
        }
      ]
    },
    {
      "cell_type": "code",
      "metadata": {
        "colab": {
          "base_uri": "https://localhost:8080/"
        },
        "id": "07V_yjPWKJwu",
        "outputId": "cbf58aa6-bf50-4c34-8387-6ad39a95079a"
      },
      "source": [
        "w1 = np.sum((y - np.mean(y)) * (X[:,1] - X[:,1].mean())) / np.sum((X[:,1] - X[:,1].mean()) ** 2)\n",
        "w0 = np.mean(y) - w1 * X[:,1].mean()\n",
        "w0, w1"
      ],
      "execution_count": 19,
      "outputs": [
        {
          "output_type": "execute_result",
          "data": {
            "text/plain": [
              "(47.23214285714286, 3.910714285714285)"
            ]
          },
          "metadata": {},
          "execution_count": 19
        }
      ]
    },
    {
      "cell_type": "code",
      "metadata": {
        "colab": {
          "base_uri": "https://localhost:8080/"
        },
        "id": "yjk4nvN8KJwx",
        "outputId": "7851fad3-2d49-46c3-9784-cc0d9c5e6746"
      },
      "source": [
        "w_ = [40, 5]\n",
        "print(X @ w_)\n",
        "print(np.dot(w_, X.T))\n",
        "print(np.dot(X, w_))\n",
        "print(w_[0] * X[:,0] + w_[1] * X[:,1])\n",
        "print(np.sum(w_ * X, axis=1))"
      ],
      "execution_count": 20,
      "outputs": [
        {
          "output_type": "stream",
          "name": "stdout",
          "text": [
            "[45 45 50 45 55 40 65 90 45 50]\n",
            "[45 45 50 45 55 40 65 90 45 50]\n",
            "[45 45 50 45 55 40 65 90 45 50]\n",
            "[45 45 50 45 55 40 65 90 45 50]\n",
            "[45 45 50 45 55 40 65 90 45 50]\n"
          ]
        }
      ]
    },
    {
      "cell_type": "code",
      "metadata": {
        "colab": {
          "base_uri": "https://localhost:8080/",
          "height": 269
        },
        "id": "Lyg-J3H7Bnv5",
        "outputId": "f445d4a5-eb81-407c-e7a1-5ba473721e40"
      },
      "source": [
        "plt.scatter(X[:,1], y)\n",
        "plt.plot(X[:,1], 45 + X[:,1] * 4, color='g')\n",
        "plt.plot(X[:,1], 40 + X[:,1] * 7)\n",
        "plt.plot(X[:,1], w[0] + w[1] * X[:,1], color='red');"
      ],
      "execution_count": 21,
      "outputs": [
        {
          "output_type": "display_data",
          "data": {
            "image/png": "[encoded data removed]",
            "text/plain": [
              "<Figure size 432x288 with 1 Axes>"
            ]
          },
          "metadata": {
            "needs_background": "light"
          }
        }
      ]
    },
    {
      "cell_type": "code",
      "metadata": {
        "id": "JTSC2cFnCd8T"
      },
      "source": [
        "def calc_mse(y, y_pred):\n",
        "    err = np.mean((y - y_pred)**2)\n",
        "    return err\n",
        "\n",
        "def calc_mae(y, y_pred):\n",
        "    err = np.mean(np.abs(y - y_pred))\n",
        "    return err"
      ],
      "execution_count": 22,
      "outputs": []
    },
    {
      "cell_type": "code",
      "metadata": {
        "colab": {
          "base_uri": "https://localhost:8080/"
        },
        "id": "AaE_x_nCDW3x",
        "outputId": "d6313001-71fd-4c60-838c-92a3602987f9"
      },
      "source": [
        "calc_mae(y, y_pred1), calc_mse(y, y_pred1)"
      ],
      "execution_count": 23,
      "outputs": [
        {
          "output_type": "execute_result",
          "data": {
            "text/plain": [
              "(6.4, 50.0)"
            ]
          },
          "metadata": {},
          "execution_count": 23
        }
      ]
    },
    {
      "cell_type": "code",
      "metadata": {
        "colab": {
          "base_uri": "https://localhost:8080/"
        },
        "id": "Yxo6vu3NDaTC",
        "outputId": "bf496f8a-9c68-498f-b035-cf6c47685258"
      },
      "source": [
        "y_pred3 = w[0] + w[1] * X[:,1]\n",
        "y_pred3"
      ],
      "execution_count": 24,
      "outputs": [
        {
          "output_type": "execute_result",
          "data": {
            "text/plain": [
              "array([51.14285714, 51.14285714, 55.05357143, 51.14285714, 58.96428571,\n",
              "       47.23214286, 66.78571429, 86.33928571, 51.14285714, 55.05357143])"
            ]
          },
          "metadata": {},
          "execution_count": 24
        }
      ]
    },
    {
      "cell_type": "code",
      "metadata": {
        "colab": {
          "base_uri": "https://localhost:8080/"
        },
        "id": "_WtO6lvhDmQ6",
        "outputId": "619c27cc-db5d-4426-9fb8-86e74147e728"
      },
      "source": [
        "calc_mae(y, y_pred3), calc_mse(y, y_pred3)"
      ],
      "execution_count": 25,
      "outputs": [
        {
          "output_type": "execute_result",
          "data": {
            "text/plain": [
              "(6.182142857142859, 45.93750000000002)"
            ]
          },
          "metadata": {},
          "execution_count": 25
        }
      ]
    },
    {
      "cell_type": "markdown",
      "metadata": {
        "id": "JAOgIXLRa--g"
      },
      "source": [
        "### Градиентный спуск (gradient descent)"
      ]
    },
    {
      "cell_type": "markdown",
      "metadata": {
        "id": "4gn9uWGrKJw9"
      },
      "source": [
        "<img src='img/grad_desent.gif' width=500 align='center'></img>"
      ]
    },
    {
      "cell_type": "markdown",
      "metadata": {
        "id": "k8lr2ZJKKJw_"
      },
      "source": [
        "$$L(w)=\\frac{1}{n}\\sum^{n}_{i=1}\\big({y_{pred}}_i-y_{i}\\big)^{2}=\\frac{1}{n}\\sum^{n}_{i=1}\\big((w_0\\cdot x_{i0}+w_1\\cdot x_{i1})-y_{i}\\big)^{2}\\rightarrow \\underset{w}{\\text{min}}$$\n",
        "$$w_j\\leftarrow w_j-\\alpha\\frac{\\partial}{\\partial w_j}L(w)$$\n",
        "$$\\frac{\\partial L(w)}{\\partial w_j}=\\frac{1}{n} 2\\sum^{n}_{i=1}x_{ij}\\Big(\\sum^{m}_{j=0}(w_jx_{ij})-y_i\\Big)$$\n",
        "$$\\vec{w}=\\vec{w}-\\alpha \\frac{2}{n}X^T(X\\vec{w}-\\vec{y}) $$\n"
      ]
    },
    {
      "cell_type": "code",
      "metadata": {
        "colab": {
          "base_uri": "https://localhost:8080/"
        },
        "id": "5DKkvmkwHdOx",
        "outputId": "b18b35b6-b7f8-4bd8-a4c2-f0af29584f81"
      },
      "source": [
        "n = 10\n",
        "alpha = 1e-3\n",
        "w = np.array([1, 0.5])\n",
        "grad = 1/n * 2 * np.sum(X.T * (np.sum(w * X, axis=1) - y), axis=1)\n",
        "grad = 1/n * 2 * np.dot(X.T, (np.dot(w, X.T) - y))\n",
        "w, w - alpha * grad"
      ],
      "execution_count": 26,
      "outputs": [
        {
          "output_type": "execute_result",
          "data": {
            "text/plain": [
              "(array([1. , 0.5]), array([1.1102, 0.84  ]))"
            ]
          },
          "metadata": {},
          "execution_count": 26
        }
      ]
    },
    {
      "cell_type": "markdown",
      "metadata": {
        "id": "nbIYmjW8KJxD"
      },
      "source": [
        "### Домашние задания"
      ]
    },
    {
      "cell_type": "markdown",
      "metadata": {
        "id": "huXrhXQsZTMt"
      },
      "source": [
        "1. Подберите скорость обучения (alpha) и количество итераций для градиентного спуска (до совпадения ответов с результатами МНК). Как влияют друг на друга эти два параметра?"
      ]
    },
    {
      "cell_type": "code",
      "metadata": {
        "colab": {
          "base_uri": "https://localhost:8080/"
        },
        "id": "IDB22MQKMYaJ",
        "outputId": "4ae90ee6-2a34-4da1-f1a0-9b5dba535143"
      },
      "source": [
        "n = X.shape[0]\n",
        "alpha = 1e-3\n",
        "w = np.array([1, 0.5])\n",
        "\n",
        "for i in range(1000+1):\n",
        "    y_pred = np.dot(w, X.T)\n",
        "    err = calc_mse(y, y_pred)\n",
        "    for j in range(w.shape[0]):\n",
        "        w[j] -= alpha * (1/n * 2 * np.sum(X[:,j] * (y_pred - y)))\n",
        "    if i % 100 == 0:\n",
        "        print(i, w, err) # МНК: array([47.23214286,  3.91071429]) 45.937499999999986"
      ],
      "execution_count": 27,
      "outputs": [
        {
          "output_type": "stream",
          "name": "stdout",
          "text": [
            "0 [1.1102 0.84  ] 3173.15\n",
            "100 [ 7.43515582 10.71754582] 899.5990444359252\n",
            "200 [11.44993589 10.49282195] 735.5540619653672\n",
            "300 [14.98921624  9.8634316 ] 606.0048772266812\n",
            "400 [18.17511588  9.27626113] 500.7989288428639\n",
            "500 [21.04606457  8.74617136] 415.355423398327\n",
            "600 [23.63334499  8.26841272] 345.9620646005472\n",
            "700 [25.96499229  7.83785632] 289.6039104863001\n",
            "800 [28.06626432  7.44984037] 243.83236130353217\n",
            "900 [29.95992301  7.10016181] 206.65877484533297\n",
            "1000 [31.66648131  6.78503276] 176.46806566379882\n"
          ]
        }
      ]
    },
    {
      "cell_type": "code",
      "metadata": {
        "colab": {
          "base_uri": "https://localhost:8080/"
        },
        "id": "DQUIRPrPK43J",
        "outputId": "deff5527-d97d-44ad-8684-15f520707ea7"
      },
      "source": [
        "n = X.shape[0]\n",
        "alpha = 3e-2\n",
        "w = np.array([1, 0.5])\n",
        "\n",
        "for i in range(400+1):\n",
        "    y_pred = np.dot(w, X.T)\n",
        "    err = calc_mse(y, y_pred)\n",
        "    for j in range(w.shape[0]):\n",
        "        w[j] -= alpha * (1/n * 2 * np.sum(X[:,j] * (y_pred - y)))\n",
        "    if i % 100 == 0:\n",
        "        print(i, w, err) # МНК: array([47.23214286,  3.91071429]) 45.937499999999986"
      ],
      "execution_count": 41,
      "outputs": [
        {
          "output_type": "stream",
          "name": "stdout",
          "text": [
            "0 [ 4.306 10.7  ] 3173.15\n",
            "100 [45.43587625  4.24240866] 47.78566552757455\n",
            "200 [47.15661983  3.92466019] 45.940767066883986\n",
            "300 [47.22896753  3.91130063] 45.93750577530847\n",
            "400 [47.23200935  3.91073894] 45.93750001020923\n"
          ]
        }
      ]
    },
    {
      "cell_type": "markdown",
      "metadata": {
        "id": "96naYNKfNDrf"
      },
      "source": [
        "При увеличении alpha, уменьшается количество итераций"
      ]
    }
  ]
}