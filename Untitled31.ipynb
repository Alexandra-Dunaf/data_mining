{
  "nbformat": 4,
  "nbformat_minor": 0,
  "metadata": {
    "colab": {
      "name": "Untitled31.ipynb",
      "provenance": [],
      "authorship_tag": "ABX9TyPdRmgoHBZZaI1nRGIWAlRf",
      "include_colab_link": true
    },
    "kernelspec": {
      "name": "python3",
      "display_name": "Python 3"
    },
    "language_info": {
      "name": "python"
    }
  },
  "cells": [
    {
      "cell_type": "markdown",
      "metadata": {
        "id": "view-in-github",
        "colab_type": "text"
      },
      "source": [
        "<a href=\"https://colab.research.google.com/github/Alexandra-Dunaf/data_mining/blob/main/Untitled31.ipynb\" target=\"_parent\"><img src=\"https://colab.research.google.com/assets/colab-badge.svg\" alt=\"Open In Colab\"/></a>"
      ]
    },
    {
      "cell_type": "code",
      "metadata": {
        "id": "6YhkPbH-Of8N"
      },
      "source": [
        "import numpy as np\n",
        "\n",
        "np.set_printoptions(precision=2, suppress=True)"
      ],
      "execution_count": 1,
      "outputs": []
    },
    {
      "cell_type": "code",
      "metadata": {
        "colab": {
          "base_uri": "https://localhost:8080/"
        },
        "id": "FhMKJTg1OkKQ",
        "outputId": "1611cbb0-daa2-47b5-8eec-cf33247dd0c0"
      },
      "source": [
        "a = np.array([[-1,-6], [2,6]])\n",
        "w, v = np.linalg.eig(a)\n",
        " \n",
        "print(f'Матрица A:\\n{a}')\n",
        "print(f'Собственные значения:\\n{w}')\n",
        "print(f'Собственные векторы:\\n{v}')"
      ],
      "execution_count": 2,
      "outputs": [
        {
          "output_type": "stream",
          "name": "stdout",
          "text": [
            "Матрица A:\n",
            "[[-1 -6]\n",
            " [ 2  6]]\n",
            "Собственные значения:\n",
            "[2. 3.]\n",
            "Собственные векторы:\n",
            "[[-0.89  0.83]\n",
            " [ 0.45 -0.55]]\n"
          ]
        }
      ]
    },
    {
      "cell_type": "code",
      "metadata": {
        "colab": {
          "base_uri": "https://localhost:8080/"
        },
        "id": "m_4LCkPBQSKo",
        "outputId": "86ab7fd7-7f2a-4f35-b91e-5afd10eb4436"
      },
      "source": [
        "a = np.array([[-1,0], [0,-1]])\n",
        "w, v = np.linalg.eig(a)\n",
        " \n",
        "print(f'Матрица A:\\n{a}')\n",
        "print(f'Собственные векторы:\\n{v}')"
      ],
      "execution_count": 8,
      "outputs": [
        {
          "output_type": "stream",
          "name": "stdout",
          "text": [
            "Матрица A:\n",
            "[[-1  0]\n",
            " [ 0 -1]]\n",
            "Собственные векторы:\n",
            "[[1. 0.]\n",
            " [0. 1.]]\n"
          ]
        }
      ]
    },
    {
      "cell_type": "code",
      "metadata": {
        "colab": {
          "base_uri": "https://localhost:8080/"
        },
        "id": "UFuEsFMQPH57",
        "outputId": "b0419654-7e94-4937-b7ec-e398478e3ec5"
      },
      "source": [
        "a = np.array([[1,1], [-1,3]])\n",
        "w, v = np.linalg.eig(a)\n",
        " \n",
        "print(f'Матрица A:\\n{a}')\n",
        "print(f'Собственные векторы:\\n{v}')"
      ],
      "execution_count": 4,
      "outputs": [
        {
          "output_type": "stream",
          "name": "stdout",
          "text": [
            "Матрица A:\n",
            "[[ 1  1]\n",
            " [-1  3]]\n",
            "Собственные векторы:\n",
            "[[ 0.71 -0.71]\n",
            " [ 0.71 -0.71]]\n"
          ]
        }
      ]
    },
    {
      "cell_type": "markdown",
      "metadata": {
        "id": "CsVHylCwPaJB"
      },
      "source": [
        "Установить, является ли вектор  x=(1,1)  собственным вектором этого линейного оператора. "
      ]
    },
    {
      "cell_type": "markdown",
      "metadata": {
        "id": "3SoVh-1iPdIu"
      },
      "source": [
        "Нет"
      ]
    },
    {
      "cell_type": "code",
      "metadata": {
        "colab": {
          "base_uri": "https://localhost:8080/"
        },
        "id": "PDnhlrSoPjUk",
        "outputId": "a7a9921d-3b22-425f-bb09-0240b655d330"
      },
      "source": [
        "a = np.array([[0,3,0], [3,0,0],[0,0,3]])\n",
        "w, v = np.linalg.eig(a)\n",
        " \n",
        "print(f'Матрица A:\\n{a}')\n",
        "print(f'Собственные векторы:\\n{v}')"
      ],
      "execution_count": 5,
      "outputs": [
        {
          "output_type": "stream",
          "name": "stdout",
          "text": [
            "Матрица A:\n",
            "[[0 3 0]\n",
            " [3 0 0]\n",
            " [0 0 3]]\n",
            "Собственные векторы:\n",
            "[[ 0.71 -0.71  0.  ]\n",
            " [ 0.71  0.71  0.  ]\n",
            " [ 0.    0.    1.  ]]\n"
          ]
        }
      ]
    },
    {
      "cell_type": "markdown",
      "metadata": {
        "id": "4kWF7dErP_1R"
      },
      "source": [
        "Установить, является ли вектор  x=(3,−3,−4)  собственным вектором этого линейного оператора."
      ]
    },
    {
      "cell_type": "markdown",
      "metadata": {
        "id": "KYTKcdHHQAjF"
      },
      "source": [
        "нет"
      ]
    }
  ]
}